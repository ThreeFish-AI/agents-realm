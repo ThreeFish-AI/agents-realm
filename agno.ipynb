{
 "cells": [
  {
   "cell_type": "markdown",
   "id": "3b48b69d",
   "metadata": {},
   "source": [
    "## Agno"
   ]
  },
  {
   "cell_type": "code",
   "execution_count": 1,
   "id": "9dee9900",
   "metadata": {},
   "outputs": [
    {
     "name": "stdout",
     "output_type": "stream",
     "text": [
      "env: ANTHROPIC_API_KEY=0f12ec02e91345bb82d14a91b9bea8ca  # 用于比较测试\n",
      "env: ANTHROPIC_API_URL=http://data-aigc.as-in.io/v1/stub/vendors/AWS\n",
      "env: GOOGLE_GENAI_USE_VERTEXAI=1\n",
      "env: GOOGLE_CLOUD_PROJECT=aftership-team-data\n",
      "env: GOOGLE_CLOUD_LOCATION=us-central1\n",
      "env: SSL_CERT_FILE=/Users/cm.huang/Documents/workspace/projects/aurelius/learning-vertex-ai-agent-builder/data/cacert.pem\n"
     ]
    }
   ],
   "source": [
    "%env ANTHROPIC_API_KEY=0f12ec02e91345bb82d14a91b9bea8ca  # 用于比较测试\n",
    "%env ANTHROPIC_API_URL=http://data-aigc.as-in.io/v1/stub/vendors/AWS\n",
    "\n",
    "%env GOOGLE_GENAI_USE_VERTEXAI=1\n",
    "%env GOOGLE_CLOUD_PROJECT=aftership-team-data\n",
    "%env GOOGLE_CLOUD_LOCATION=us-central1\n",
    "\n",
    "%env SSL_CERT_FILE=/Users/cm.huang/Documents/workspace/projects/aurelius/learning-vertex-ai-agent-builder/data/cacert.pem"
   ]
  },
  {
   "cell_type": "code",
   "execution_count": 7,
   "id": "847ef01a",
   "metadata": {},
   "outputs": [],
   "source": [
    "import os\n",
    "os.environ['LC_ALL'] = 'en_US.UTF-8'\n",
    "os.environ['LANG'] = 'en_US.UTF-8'"
   ]
  },
  {
   "cell_type": "code",
   "execution_count": null,
   "id": "5135d373",
   "metadata": {},
   "outputs": [],
   "source": [
    "from agno.agent import Agent\n",
    "from agno.models.anthropic import Claude\n",
    "from agno.tools.duckduckgo import DuckDuckGoTools\n",
    "\n",
    "agent = Agent(\n",
    "    model=Claude(id=\"claude-sonnet-4-20250514\"),\n",
    "    tools=[DuckDuckGoTools()],\n",
    "    instructions=\"Use tables to display data. Don't include any other text.\",\n",
    "    markdown=True,\n",
    ")\n",
    "agent.print_response(\"What is the stock price of Apple?\", stream=True)"
   ]
  }
 ],
 "metadata": {
  "kernelspec": {
   "display_name": "attention",
   "language": "python",
   "name": "python3"
  },
  "language_info": {
   "codemirror_mode": {
    "name": "ipython",
    "version": 3
   },
   "file_extension": ".py",
   "mimetype": "text/x-python",
   "name": "python",
   "nbconvert_exporter": "python",
   "pygments_lexer": "ipython3",
   "version": "3.12.10"
  }
 },
 "nbformat": 4,
 "nbformat_minor": 5
}
